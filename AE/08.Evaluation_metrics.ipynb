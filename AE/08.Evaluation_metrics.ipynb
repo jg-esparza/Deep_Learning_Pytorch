{
 "cells": [
  {
   "cell_type": "code",
   "id": "initial_id",
   "metadata": {
    "collapsed": true,
    "ExecuteTime": {
     "end_time": "2025-03-16T18:37:11.217891Z",
     "start_time": "2025-03-16T18:37:11.212972Z"
    }
   },
   "source": [
    "import torch\n",
    "from torchmetrics.classification import Dice, JaccardIndex, BinaryJaccardIndex\n",
    "\n",
    "from dataset import SegmentationDataset, DataLoader"
   ],
   "outputs": [],
   "execution_count": 151
  },
  {
   "metadata": {
    "ExecuteTime": {
     "end_time": "2025-03-16T17:41:27.634342Z",
     "start_time": "2025-03-16T17:41:27.624864Z"
    }
   },
   "cell_type": "code",
   "source": [
    "dice_metric = Dice(num_classes=2, average=\"micro\")\n",
    "iou_metric = JaccardIndex(task=\"binary\", average=\"micro\")"
   ],
   "id": "8c4c0d87c0e26f60",
   "outputs": [],
   "execution_count": 2
  },
  {
   "metadata": {
    "ExecuteTime": {
     "end_time": "2025-03-16T17:48:25.750139Z",
     "start_time": "2025-03-16T17:48:25.744634Z"
    }
   },
   "cell_type": "code",
   "source": [
    "targets = torch.tensor([[[[1, 1, 1, 0], [1, 0, 0, 1], [0, 0, 1, 0], [0, 0, 1, 0]]]], dtype=torch.float32)\n",
    "targets2 = torch.tensor([[[[1, 1, 1, 0], [1, 0, 0, 1], [0, 0, 1, 0], [0, 0, 1, 0]]]], dtype=torch.float32)\n",
    "targets.shape"
   ],
   "id": "d16e5d87a1e68223",
   "outputs": [
    {
     "data": {
      "text/plain": [
       "torch.Size([1, 1, 4, 4])"
      ]
     },
     "execution_count": 39,
     "metadata": {},
     "output_type": "execute_result"
    }
   ],
   "execution_count": 39
  },
  {
   "metadata": {
    "ExecuteTime": {
     "end_time": "2025-03-16T17:48:26.188044Z",
     "start_time": "2025-03-16T17:48:26.179390Z"
    }
   },
   "cell_type": "code",
   "source": [
    "dice = dice_metric(targets.int(), targets2.int())\n",
    "iou = iou_metric(targets.int(), targets2.int())\n",
    "print(f'Dice: {dice:.2f}')\n",
    "print(f'IoU: {iou:.2f}')"
   ],
   "id": "dc2cbefa342dc6e7",
   "outputs": [
    {
     "name": "stdout",
     "output_type": "stream",
     "text": [
      "Dice: 1.00\n",
      "IoU: 1.00\n"
     ]
    }
   ],
   "execution_count": 40
  },
  {
   "metadata": {
    "ExecuteTime": {
     "end_time": "2025-03-16T17:56:07.454948Z",
     "start_time": "2025-03-16T17:56:07.440083Z"
    }
   },
   "cell_type": "code",
   "source": [
    "image_dir = '../datasets/Brain_tumor_segmentation/manual_test'\n",
    "mask_dir = '../datasets/Brain_tumor_segmentation/manual_test_masks'\n",
    "dataset = SegmentationDataset(image_dir, mask_dir)\n",
    "dataloader = DataLoader(dataset, batch_size=4, shuffle=False)\n",
    "image, mask = next(iter(dataloader))\n",
    "mask.shape"
   ],
   "id": "894145a278bb75d4",
   "outputs": [
    {
     "data": {
      "text/plain": [
       "torch.Size([1, 1, 256, 256])"
      ]
     },
     "execution_count": 56,
     "metadata": {},
     "output_type": "execute_result"
    }
   ],
   "execution_count": 56
  },
  {
   "metadata": {
    "ExecuteTime": {
     "end_time": "2025-03-16T17:56:08.364677Z",
     "start_time": "2025-03-16T17:56:08.352179Z"
    }
   },
   "cell_type": "code",
   "source": [
    "dice = dice_metric(mask.int(), mask.int())\n",
    "iou = iou_metric(mask.int(), mask.int())\n",
    "print(f'Dice: {dice:.2f}')\n",
    "print(f'IoU: {iou:.2f}')"
   ],
   "id": "589bb52ad4df1f03",
   "outputs": [
    {
     "name": "stdout",
     "output_type": "stream",
     "text": [
      "Dice: 1.00\n",
      "IoU: 1.00\n"
     ]
    }
   ],
   "execution_count": 57
  },
  {
   "metadata": {
    "ExecuteTime": {
     "end_time": "2025-03-16T17:56:09.419173Z",
     "start_time": "2025-03-16T17:56:09.281834Z"
    }
   },
   "cell_type": "code",
   "source": [
    "from unet import UNet\n",
    "model = UNet(in_channels=3, out_channels=1)"
   ],
   "id": "218b917b4f6a4a49",
   "outputs": [],
   "execution_count": 58
  },
  {
   "metadata": {
    "ExecuteTime": {
     "end_time": "2025-03-16T17:56:10.276308Z",
     "start_time": "2025-03-16T17:56:10.048413Z"
    }
   },
   "cell_type": "code",
   "source": "model.load_state_dict(torch.load(\"./models/unet_14_03.pth\", weights_only=True))",
   "id": "16be17a83221191",
   "outputs": [
    {
     "data": {
      "text/plain": [
       "<All keys matched successfully>"
      ]
     },
     "execution_count": 59,
     "metadata": {},
     "output_type": "execute_result"
    }
   ],
   "execution_count": 59
  },
  {
   "metadata": {
    "ExecuteTime": {
     "end_time": "2025-03-16T17:56:18.295340Z",
     "start_time": "2025-03-16T17:56:17.872883Z"
    }
   },
   "cell_type": "code",
   "source": [
    "model.eval()\n",
    "output = model(image)\n",
    "output = torch.sigmoid(output)"
   ],
   "id": "3f91d38c35c0d73d",
   "outputs": [],
   "execution_count": 60
  },
  {
   "metadata": {
    "ExecuteTime": {
     "end_time": "2025-03-16T18:31:53.810545Z",
     "start_time": "2025-03-16T18:31:53.800806Z"
    }
   },
   "cell_type": "code",
   "source": [
    "dice = dice_metric(output.int(), mask.int())\n",
    "iou = iou_metric(output, mask.int())\n",
    "print(f'Dice: {dice:.2f}')\n",
    "print(f'IoU: {iou:.4f}')"
   ],
   "id": "2b2d590f8963f83f",
   "outputs": [
    {
     "name": "stdout",
     "output_type": "stream",
     "text": [
      "Dice: 0.98\n",
      "IoU: 0.8428\n"
     ]
    }
   ],
   "execution_count": 147
  },
  {
   "metadata": {
    "ExecuteTime": {
     "end_time": "2025-03-16T18:32:52.239016Z",
     "start_time": "2025-03-16T18:32:52.233507Z"
    }
   },
   "cell_type": "code",
   "source": [
    "def dice_score(pred, targets, threshold=0.5, eps=1e-7):\n",
    "    pred = (pred > threshold).float()\n",
    "    targets = targets.float()\n",
    "    intersection = (pred * targets).sum()\n",
    "    total_sum = pred.sum() + targets.sum() + eps\n",
    "    return (2. * intersection + eps) / total_sum\n",
    "dice_score(output, mask).item()"
   ],
   "id": "979c3c51c20aa598",
   "outputs": [
    {
     "data": {
      "text/plain": [
       "0.9428561925888062"
      ]
     },
     "execution_count": 150,
     "metadata": {},
     "output_type": "execute_result"
    }
   ],
   "execution_count": 150
  },
  {
   "metadata": {
    "ExecuteTime": {
     "end_time": "2025-03-16T18:19:55.965782Z",
     "start_time": "2025-03-16T18:19:55.959659Z"
    }
   },
   "cell_type": "code",
   "source": [
    "def iou_score(pred, targets, threshold=0.5):\n",
    "    pred = (pred > threshold).float()\n",
    "    targets = targets.float()\n",
    "    intersect = (pred * targets).sum()\n",
    "    union = pred.sum() + targets.sum() - intersect\n",
    "    return intersect/union\n",
    "print(iou_score(output, mask).item())"
   ],
   "id": "40db7cf41ecce8a1",
   "outputs": [
    {
     "name": "stdout",
     "output_type": "stream",
     "text": [
      "0.8918901681900024\n"
     ]
    }
   ],
   "execution_count": 129
  },
  {
   "metadata": {
    "ExecuteTime": {
     "end_time": "2025-03-16T18:27:11.680421Z",
     "start_time": "2025-03-16T18:27:11.675909Z"
    }
   },
   "cell_type": "code",
   "source": [
    "targets_1 = torch.tensor([1, 1, 0.5, 0], dtype=torch.float32)\n",
    "target_2 = torch.tensor([0, 0, 1, 1], dtype=torch.float32)\n",
    "print(iou_score(targets_1, target_2).item())"
   ],
   "id": "9763ff1178893f25",
   "outputs": [
    {
     "name": "stdout",
     "output_type": "stream",
     "text": [
      "0.0\n"
     ]
    }
   ],
   "execution_count": 138
  },
  {
   "metadata": {
    "ExecuteTime": {
     "end_time": "2025-03-16T18:52:13.572903Z",
     "start_time": "2025-03-16T18:52:13.567307Z"
    }
   },
   "cell_type": "code",
   "source": [
    "def precision_score(pred, targets, threshold=0.5):\n",
    "    pred = (pred > threshold).float()\n",
    "    intersect = (pred * targets).sum()\n",
    "    total_pixel_pred = pred.sum()\n",
    "    precision = intersect/total_pixel_pred\n",
    "    return precision.item()\n",
    "\n",
    "precision_score(output, mask)"
   ],
   "id": "db0f86781d14e59c",
   "outputs": [
    {
     "data": {
      "text/plain": [
       "0.9131737947463989"
      ]
     },
     "execution_count": 179,
     "metadata": {},
     "output_type": "execute_result"
    }
   ],
   "execution_count": 179
  },
  {
   "metadata": {
    "ExecuteTime": {
     "end_time": "2025-03-16T18:53:15.759227Z",
     "start_time": "2025-03-16T18:53:15.752720Z"
    }
   },
   "cell_type": "code",
   "source": [
    "def recall_score(pred, targets, threshold=0.5):\n",
    "    pred = (pred > threshold).float()\n",
    "    intersect = (pred*targets).sum()\n",
    "    total_pixel_truth = targets.sum()\n",
    "    recall = intersect/total_pixel_truth\n",
    "    return recall.item()\n",
    "recall_score(output, mask)"
   ],
   "id": "2f7d6cb0348d739e",
   "outputs": [
    {
     "data": {
      "text/plain": [
       "0.9745330214500427"
      ]
     },
     "execution_count": 180,
     "metadata": {},
     "output_type": "execute_result"
    }
   ],
   "execution_count": 180
  },
  {
   "metadata": {},
   "cell_type": "code",
   "outputs": [],
   "execution_count": null,
   "source": "|",
   "id": "2a8d70ee6c277c65"
  }
 ],
 "metadata": {
  "kernelspec": {
   "display_name": "Python 3",
   "language": "python",
   "name": "python3"
  },
  "language_info": {
   "codemirror_mode": {
    "name": "ipython",
    "version": 2
   },
   "file_extension": ".py",
   "mimetype": "text/x-python",
   "name": "python",
   "nbconvert_exporter": "python",
   "pygments_lexer": "ipython2",
   "version": "2.7.6"
  }
 },
 "nbformat": 4,
 "nbformat_minor": 5
}
