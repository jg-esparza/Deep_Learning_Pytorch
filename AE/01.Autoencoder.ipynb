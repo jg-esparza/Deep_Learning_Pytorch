{
 "cells": [
  {
   "metadata": {},
   "cell_type": "markdown",
   "source": "## Autoencoders in PyTorch",
   "id": "ee127036709b875"
  },
  {
   "metadata": {},
   "cell_type": "markdown",
   "source": [
    "Deep learning autoencoders are a type of neural network that can reconstruct specific images from the latent code space.\n",
    "The autoencoders obtain the latent code data from a network called the encoder network. Then we give this code as the input to the decoder network which tries to reconstruct the images that the network has been trained on."
   ],
   "id": "1197130016ccd932"
  },
  {
   "metadata": {},
   "cell_type": "markdown",
   "source": "### Import required libraries and modules",
   "id": "59d9fe52069332fb"
  },
  {
   "metadata": {
    "ExecuteTime": {
     "end_time": "2025-02-20T20:03:07.752813Z",
     "start_time": "2025-02-20T20:03:01.896680Z"
    }
   },
   "cell_type": "code",
   "source": [
    "# import packages\n",
    "import os\n",
    "import torch \n",
    "import torchvision\n",
    "import torch.nn as nn\n",
    "import torchvision.transforms as transforms\n",
    "import torch.optim as optim\n",
    "import matplotlib.pyplot as plt\n",
    "import torch.nn.functional as F\n",
    " \n",
    "from torchvision import datasets\n",
    "from torch.utils.data import DataLoader\n",
    "from torchvision.utils import save_image"
   ],
   "id": "15f2554002eac65b",
   "outputs": [],
   "execution_count": 1
  },
  {
   "metadata": {},
   "cell_type": "markdown",
   "source": "### Define constants and basic image transformations",
   "id": "56ac439ffd9aac99"
  },
  {
   "metadata": {
    "ExecuteTime": {
     "end_time": "2025-02-20T20:03:07.758730Z",
     "start_time": "2025-02-20T20:03:07.754223Z"
    }
   },
   "cell_type": "code",
   "source": [
    "# constants\n",
    "NUM_EPOCHS = 5\n",
    "LEARNING_RATE = 1e-3\n",
    "BATCH_SIZE = 128\n",
    "# image transformations\n",
    "transform = transforms.Compose([\n",
    "    transforms.ToTensor(),\n",
    "])"
   ],
   "id": "fe731dd980afda8a",
   "outputs": [],
   "execution_count": 2
  },
  {
   "metadata": {},
   "cell_type": "markdown",
   "source": "### Prepare dataset",
   "id": "eef1f40bd215866c"
  },
  {
   "metadata": {
    "ExecuteTime": {
     "end_time": "2025-02-20T20:03:07.980599Z",
     "start_time": "2025-02-20T20:03:07.760246Z"
    }
   },
   "cell_type": "code",
   "source": [
    "trainset = datasets.FashionMNIST(\n",
    "    root='../datasets/fashionmnist/train',\n",
    "    train=True, \n",
    "    download=True,\n",
    "    transform=transform\n",
    ")\n",
    "testset = datasets.FashionMNIST(\n",
    "    root='../datasets/fashionmnist/test',\n",
    "    train=False,\n",
    "    download=True,\n",
    "    transform=transform\n",
    ")\n",
    "trainloader = DataLoader(\n",
    "    trainset, \n",
    "    batch_size=BATCH_SIZE,\n",
    "    shuffle=True\n",
    ")\n",
    "testloader = DataLoader(\n",
    "    testset, \n",
    "    batch_size=BATCH_SIZE, \n",
    "    shuffle=True\n",
    ")"
   ],
   "id": "f301887ff45c92fa",
   "outputs": [],
   "execution_count": 3
  },
  {
   "metadata": {},
   "cell_type": "markdown",
   "source": "### Several useful utility functions",
   "id": "588d544d407ecbcd"
  },
  {
   "metadata": {
    "ExecuteTime": {
     "end_time": "2025-02-20T20:03:07.986487Z",
     "start_time": "2025-02-20T20:03:07.981985Z"
    }
   },
   "cell_type": "code",
   "source": [
    "# utility functions\n",
    "def get_device():\n",
    "    if torch.cuda.is_available():\n",
    "        device = 'cuda:0'\n",
    "    else:\n",
    "        device = 'cpu'\n",
    "    return device\n",
    "def make_dir():\n",
    "    image_dir = 'FashionMNIST_Images'\n",
    "    if not os.path.exists(image_dir):\n",
    "        os.makedirs(image_dir)\n",
    "def save_decoded_image(img, epoch):\n",
    "    img = img.view(img.size(0), 1, 28, 28)\n",
    "    save_image(img, './generated_images/linear_ae_image{}.png'.format(epoch))"
   ],
   "id": "a1320620ab734286",
   "outputs": [],
   "execution_count": 4
  },
  {
   "metadata": {},
   "cell_type": "markdown",
   "source": "### Define the Autoencoder network",
   "id": "4d381e2457240b03"
  },
  {
   "metadata": {
    "ExecuteTime": {
     "end_time": "2025-02-20T20:03:08.020223Z",
     "start_time": "2025-02-20T20:03:07.988493Z"
    }
   },
   "cell_type": "code",
   "source": [
    "class Autoencoder(nn.Module):\n",
    "    def __init__(self):\n",
    "        super(Autoencoder, self).__init__()\n",
    "        # encoder\n",
    "        self.enc1 = nn.Linear(in_features=784, out_features=256)\n",
    "        self.enc2 = nn.Linear(in_features=256, out_features=128)\n",
    "        self.enc3 = nn.Linear(in_features=128, out_features=64)\n",
    "        self.enc4 = nn.Linear(in_features=64, out_features=32)\n",
    "        self.enc5 = nn.Linear(in_features=32, out_features=16)\n",
    "        # decoder \n",
    "        self.dec1 = nn.Linear(in_features=16, out_features=32)\n",
    "        self.dec2 = nn.Linear(in_features=32, out_features=64)\n",
    "        self.dec3 = nn.Linear(in_features=64, out_features=128)\n",
    "        self.dec4 = nn.Linear(in_features=128, out_features=256)\n",
    "        self.dec5 = nn.Linear(in_features=256, out_features=784)\n",
    "    def forward(self, x):\n",
    "        x = F.relu(self.enc1(x))\n",
    "        x = F.relu(self.enc2(x))\n",
    "        x = F.relu(self.enc3(x))\n",
    "        x = F.relu(self.enc4(x))\n",
    "        x = F.relu(self.enc5(x))\n",
    "        x = F.relu(self.dec1(x))\n",
    "        x = F.relu(self.dec2(x))\n",
    "        x = F.relu(self.dec3(x))\n",
    "        x = F.relu(self.dec4(x))\n",
    "        x = F.relu(self.dec5(x))\n",
    "        return x\n",
    "net = Autoencoder()\n",
    "print(net)"
   ],
   "id": "dc9ea96b04e6529b",
   "outputs": [
    {
     "name": "stdout",
     "output_type": "stream",
     "text": [
      "Autoencoder(\n",
      "  (enc1): Linear(in_features=784, out_features=256, bias=True)\n",
      "  (enc2): Linear(in_features=256, out_features=128, bias=True)\n",
      "  (enc3): Linear(in_features=128, out_features=64, bias=True)\n",
      "  (enc4): Linear(in_features=64, out_features=32, bias=True)\n",
      "  (enc5): Linear(in_features=32, out_features=16, bias=True)\n",
      "  (dec1): Linear(in_features=16, out_features=32, bias=True)\n",
      "  (dec2): Linear(in_features=32, out_features=64, bias=True)\n",
      "  (dec3): Linear(in_features=64, out_features=128, bias=True)\n",
      "  (dec4): Linear(in_features=128, out_features=256, bias=True)\n",
      "  (dec5): Linear(in_features=256, out_features=784, bias=True)\n",
      ")\n"
     ]
    }
   ],
   "execution_count": 5
  },
  {
   "metadata": {},
   "cell_type": "markdown",
   "source": "### Define loss function and optimizer",
   "id": "ea074505ee5cafd0"
  },
  {
   "metadata": {
    "ExecuteTime": {
     "end_time": "2025-02-20T20:03:08.026290Z",
     "start_time": "2025-02-20T20:03:08.021231Z"
    }
   },
   "cell_type": "code",
   "source": [
    "criterion = nn.MSELoss()\n",
    "optimizer = optim.Adam(net.parameters(), lr=LEARNING_RATE)"
   ],
   "id": "5d6feb4b4e2d9a7",
   "outputs": [],
   "execution_count": 6
  },
  {
   "metadata": {},
   "cell_type": "markdown",
   "source": "### Define the train and evaluation functions ",
   "id": "9f3023598be8a6f2"
  },
  {
   "metadata": {
    "ExecuteTime": {
     "end_time": "2025-02-20T20:03:08.036091Z",
     "start_time": "2025-02-20T20:03:08.027296Z"
    }
   },
   "cell_type": "code",
   "source": [
    "def train(net, trainloader, NUM_EPOCHS):\n",
    "    train_loss = []\n",
    "    for epoch in range(NUM_EPOCHS):\n",
    "        running_loss = 0.0\n",
    "        for data in trainloader:\n",
    "            img, _ = data\n",
    "            img = img.to(device)\n",
    "            img = img.view(img.size(0), -1)\n",
    "            optimizer.zero_grad()\n",
    "            outputs = net(img)\n",
    "            loss = criterion(outputs, img)\n",
    "            loss.backward()\n",
    "            optimizer.step()\n",
    "            running_loss += loss.item()\n",
    "        \n",
    "        loss = running_loss / len(trainloader)\n",
    "        train_loss.append(loss)\n",
    "        print('Epoch {} of {}, Train Loss: {:.3f}'.format(\n",
    "            epoch+1, NUM_EPOCHS, loss))\n",
    "        if epoch % 5 == 0:\n",
    "            save_decoded_image(outputs.cpu().data, epoch)\n",
    "    return train_loss\n",
    "\n",
    "def evaluate_image_reconstruction(net, testloader, NUM_EPOCHS):\n",
    "     for batch in testloader:\n",
    "        img, _ = batch\n",
    "        img = img.to(device)\n",
    "        img = img.view(img.size(0), -1)\n",
    "        outputs = net(img)\n",
    "        outputs = outputs.view(outputs.size(0), 1, 28, 28).cpu().data\n",
    "        save_image(outputs, \"./FashionMNIST_Images/fashionmnist_reconstruction\" + str(NUM_EPOCHS) + \".png\")\n",
    "        break"
   ],
   "id": "5f4368146f68eae7",
   "outputs": [],
   "execution_count": 7
  },
  {
   "metadata": {},
   "cell_type": "markdown",
   "source": "### Training the Autoencoder Network",
   "id": "8d5e625119c0711"
  },
  {
   "metadata": {
    "ExecuteTime": {
     "end_time": "2025-02-20T20:03:43.275182Z",
     "start_time": "2025-02-20T20:03:08.037097Z"
    }
   },
   "cell_type": "code",
   "source": [
    "# get the computation device\n",
    "device = get_device()\n",
    "print(device)\n",
    "# load the neural network onto the device\n",
    "net.to(device)\n",
    "make_dir()\n",
    "# train the network\n",
    "train_loss = train(net, trainloader, NUM_EPOCHS)\n",
    "plt.figure()\n",
    "plt.plot(train_loss)\n",
    "plt.title('Train Loss')\n",
    "plt.xlabel('Epochs')\n",
    "plt.ylabel('Loss')\n",
    "plt.savefig('./FashionMNIST_Images/deep_ae_fashionmnist_loss.png')\n",
    "# test the network\n",
    "evaluate_image_reconstruction(net, testloader, NUM_EPOCHS) # let try epoch 0, 20, 40 and compare the result image"
   ],
   "id": "43ece9db9697fcf0",
   "outputs": [
    {
     "name": "stdout",
     "output_type": "stream",
     "text": [
      "cuda:0\n",
      "Epoch 1 of 5, Train Loss: 0.074\n",
      "Epoch 2 of 5, Train Loss: 0.040\n",
      "Epoch 3 of 5, Train Loss: 0.033\n",
      "Epoch 4 of 5, Train Loss: 0.031\n",
      "Epoch 5 of 5, Train Loss: 0.029\n"
     ]
    },
    {
     "data": {
      "text/plain": [
       "<Figure size 640x480 with 1 Axes>"
      ],
      "image/png": "[encoded data removed]"
     },
     "metadata": {},
     "output_type": "display_data"
    }
   ],
   "execution_count": 8
  },
  {
   "metadata": {
    "ExecuteTime": {
     "end_time": "2025-02-20T20:03:43.278523Z",
     "start_time": "2025-02-20T20:03:43.275182Z"
    }
   },
   "cell_type": "code",
   "source": "",
   "id": "14a918f73a2f8c0f",
   "outputs": [],
   "execution_count": 8
  }
 ],
 "metadata": {
  "kernelspec": {
   "display_name": "Python 3",
   "language": "python",
   "name": "python3"
  },
  "language_info": {
   "codemirror_mode": {
    "name": "ipython",
    "version": 2
   },
   "file_extension": ".py",
   "mimetype": "text/x-python",
   "name": "python",
   "nbconvert_exporter": "python",
   "pygments_lexer": "ipython2",
   "version": "2.7.6"
  }
 },
 "nbformat": 4,
 "nbformat_minor": 5
}
